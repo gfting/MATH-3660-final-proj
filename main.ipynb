{
 "cells": [
  {
   "cell_type": "code",
   "execution_count": 121,
   "id": "adapted-banks",
   "metadata": {},
   "outputs": [],
   "source": [
    "import pandas as pd\n",
    "import numpy as np\n",
    "from sklearn.impute import KNNImputer\n",
    "from sklearn.preprocessing import RobustScaler\n",
    "from sklearn.svm import SVC \n",
    "from sklearn.metrics import classification_report\n",
    "from sklearn.model_selection import train_test_split\n",
    "import seaborn as sns\n",
    "import matplotlib.pyplot as plt\n",
    "sns.set_theme(style=\"whitegrid\")"
   ]
  },
  {
   "cell_type": "code",
   "execution_count": 167,
   "id": "noted-today",
   "metadata": {},
   "outputs": [],
   "source": [
    "df1=pd.read_csv(\"./data/2014_Financial_Data.csv\")\n",
    "df2=pd.read_csv(\"./data/2015_Financial_Data.csv\")\n",
    "df3=pd.read_csv(\"./data/2016_Financial_Data.csv\")\n",
    "df4=pd.read_csv(\"./data/2017_Financial_Data.csv\")\n",
    "df5=pd.read_csv(\"./data/2018_Financial_Data.csv\")"
   ]
  },
  {
   "cell_type": "code",
   "execution_count": 168,
   "id": "spare-difference",
   "metadata": {},
   "outputs": [
    {
     "data": {
      "text/html": [
       "<div>\n",
       "<style scoped>\n",
       "    .dataframe tbody tr th:only-of-type {\n",
       "        vertical-align: middle;\n",
       "    }\n",
       "\n",
       "    .dataframe tbody tr th {\n",
       "        vertical-align: top;\n",
       "    }\n",
       "\n",
       "    .dataframe thead th {\n",
       "        text-align: right;\n",
       "    }\n",
       "</style>\n",
       "<table border=\"1\" class=\"dataframe\">\n",
       "  <thead>\n",
       "    <tr style=\"text-align: right;\">\n",
       "      <th></th>\n",
       "      <th>Unnamed: 0</th>\n",
       "      <th>Revenue</th>\n",
       "      <th>Revenue Growth</th>\n",
       "      <th>Cost of Revenue</th>\n",
       "      <th>Gross Profit</th>\n",
       "      <th>R&amp;D Expenses</th>\n",
       "      <th>SG&amp;A Expense</th>\n",
       "      <th>Operating Expenses</th>\n",
       "      <th>Operating Income</th>\n",
       "      <th>Interest Expense</th>\n",
       "      <th>...</th>\n",
       "      <th>Receivables growth</th>\n",
       "      <th>Inventory Growth</th>\n",
       "      <th>Asset Growth</th>\n",
       "      <th>Book Value per Share Growth</th>\n",
       "      <th>Debt Growth</th>\n",
       "      <th>R&amp;D Expense Growth</th>\n",
       "      <th>SG&amp;A Expenses Growth</th>\n",
       "      <th>Sector</th>\n",
       "      <th>2015 PRICE VAR [%]</th>\n",
       "      <th>Class</th>\n",
       "    </tr>\n",
       "  </thead>\n",
       "  <tbody>\n",
       "    <tr>\n",
       "      <th>0</th>\n",
       "      <td>PG</td>\n",
       "      <td>7.440100e+10</td>\n",
       "      <td>-0.0713</td>\n",
       "      <td>3.903000e+10</td>\n",
       "      <td>3.537100e+10</td>\n",
       "      <td>0.000000e+00</td>\n",
       "      <td>2.146100e+10</td>\n",
       "      <td>2.146100e+10</td>\n",
       "      <td>1.391000e+10</td>\n",
       "      <td>7.090000e+08</td>\n",
       "      <td>...</td>\n",
       "      <td>-0.0187</td>\n",
       "      <td>-0.0217</td>\n",
       "      <td>0.0359</td>\n",
       "      <td>0.0316</td>\n",
       "      <td>0.1228</td>\n",
       "      <td>0.0000</td>\n",
       "      <td>-0.1746</td>\n",
       "      <td>Consumer Defensive</td>\n",
       "      <td>-9.323276</td>\n",
       "      <td>0</td>\n",
       "    </tr>\n",
       "    <tr>\n",
       "      <th>1</th>\n",
       "      <td>VIPS</td>\n",
       "      <td>3.734148e+09</td>\n",
       "      <td>1.1737</td>\n",
       "      <td>2.805625e+09</td>\n",
       "      <td>9.285226e+08</td>\n",
       "      <td>1.083303e+08</td>\n",
       "      <td>3.441414e+08</td>\n",
       "      <td>7.939267e+08</td>\n",
       "      <td>1.345959e+08</td>\n",
       "      <td>1.214869e+07</td>\n",
       "      <td>...</td>\n",
       "      <td>NaN</td>\n",
       "      <td>NaN</td>\n",
       "      <td>NaN</td>\n",
       "      <td>NaN</td>\n",
       "      <td>NaN</td>\n",
       "      <td>1.6484</td>\n",
       "      <td>1.7313</td>\n",
       "      <td>Consumer Defensive</td>\n",
       "      <td>-25.512193</td>\n",
       "      <td>0</td>\n",
       "    </tr>\n",
       "    <tr>\n",
       "      <th>2</th>\n",
       "      <td>KR</td>\n",
       "      <td>9.837500e+10</td>\n",
       "      <td>0.0182</td>\n",
       "      <td>7.813800e+10</td>\n",
       "      <td>2.023700e+10</td>\n",
       "      <td>0.000000e+00</td>\n",
       "      <td>1.519600e+10</td>\n",
       "      <td>1.751200e+10</td>\n",
       "      <td>2.725000e+09</td>\n",
       "      <td>4.430000e+08</td>\n",
       "      <td>...</td>\n",
       "      <td>0.0618</td>\n",
       "      <td>0.0981</td>\n",
       "      <td>0.1886</td>\n",
       "      <td>0.3268</td>\n",
       "      <td>0.2738</td>\n",
       "      <td>0.0000</td>\n",
       "      <td>0.0234</td>\n",
       "      <td>Consumer Defensive</td>\n",
       "      <td>33.118297</td>\n",
       "      <td>1</td>\n",
       "    </tr>\n",
       "    <tr>\n",
       "      <th>3</th>\n",
       "      <td>RAD</td>\n",
       "      <td>2.552641e+10</td>\n",
       "      <td>0.0053</td>\n",
       "      <td>1.820268e+10</td>\n",
       "      <td>7.323734e+09</td>\n",
       "      <td>0.000000e+00</td>\n",
       "      <td>6.561162e+09</td>\n",
       "      <td>6.586482e+09</td>\n",
       "      <td>7.372520e+08</td>\n",
       "      <td>4.245910e+08</td>\n",
       "      <td>...</td>\n",
       "      <td>0.0211</td>\n",
       "      <td>-0.0510</td>\n",
       "      <td>-0.0189</td>\n",
       "      <td>0.1963</td>\n",
       "      <td>-0.0458</td>\n",
       "      <td>0.0000</td>\n",
       "      <td>-0.0060</td>\n",
       "      <td>Consumer Defensive</td>\n",
       "      <td>2.752291</td>\n",
       "      <td>1</td>\n",
       "    </tr>\n",
       "    <tr>\n",
       "      <th>4</th>\n",
       "      <td>GIS</td>\n",
       "      <td>1.790960e+10</td>\n",
       "      <td>0.0076</td>\n",
       "      <td>1.153980e+10</td>\n",
       "      <td>6.369800e+09</td>\n",
       "      <td>0.000000e+00</td>\n",
       "      <td>3.474300e+09</td>\n",
       "      <td>3.412400e+09</td>\n",
       "      <td>2.957400e+09</td>\n",
       "      <td>3.024000e+08</td>\n",
       "      <td>...</td>\n",
       "      <td>0.0257</td>\n",
       "      <td>0.0090</td>\n",
       "      <td>0.0215</td>\n",
       "      <td>0.0274</td>\n",
       "      <td>0.1025</td>\n",
       "      <td>0.0000</td>\n",
       "      <td>-0.0220</td>\n",
       "      <td>Consumer Defensive</td>\n",
       "      <td>12.897715</td>\n",
       "      <td>1</td>\n",
       "    </tr>\n",
       "  </tbody>\n",
       "</table>\n",
       "<p>5 rows × 225 columns</p>\n",
       "</div>"
      ],
      "text/plain": [
       "  Unnamed: 0       Revenue  Revenue Growth  Cost of Revenue  Gross Profit  \\\n",
       "0         PG  7.440100e+10         -0.0713     3.903000e+10  3.537100e+10   \n",
       "1       VIPS  3.734148e+09          1.1737     2.805625e+09  9.285226e+08   \n",
       "2         KR  9.837500e+10          0.0182     7.813800e+10  2.023700e+10   \n",
       "3        RAD  2.552641e+10          0.0053     1.820268e+10  7.323734e+09   \n",
       "4        GIS  1.790960e+10          0.0076     1.153980e+10  6.369800e+09   \n",
       "\n",
       "   R&D Expenses  SG&A Expense  Operating Expenses  Operating Income  \\\n",
       "0  0.000000e+00  2.146100e+10        2.146100e+10      1.391000e+10   \n",
       "1  1.083303e+08  3.441414e+08        7.939267e+08      1.345959e+08   \n",
       "2  0.000000e+00  1.519600e+10        1.751200e+10      2.725000e+09   \n",
       "3  0.000000e+00  6.561162e+09        6.586482e+09      7.372520e+08   \n",
       "4  0.000000e+00  3.474300e+09        3.412400e+09      2.957400e+09   \n",
       "\n",
       "   Interest Expense  ...  Receivables growth  Inventory Growth  Asset Growth  \\\n",
       "0      7.090000e+08  ...             -0.0187           -0.0217        0.0359   \n",
       "1      1.214869e+07  ...                 NaN               NaN           NaN   \n",
       "2      4.430000e+08  ...              0.0618            0.0981        0.1886   \n",
       "3      4.245910e+08  ...              0.0211           -0.0510       -0.0189   \n",
       "4      3.024000e+08  ...              0.0257            0.0090        0.0215   \n",
       "\n",
       "   Book Value per Share Growth  Debt Growth  R&D Expense Growth  \\\n",
       "0                       0.0316       0.1228              0.0000   \n",
       "1                          NaN          NaN              1.6484   \n",
       "2                       0.3268       0.2738              0.0000   \n",
       "3                       0.1963      -0.0458              0.0000   \n",
       "4                       0.0274       0.1025              0.0000   \n",
       "\n",
       "   SG&A Expenses Growth              Sector  2015 PRICE VAR [%]  Class  \n",
       "0               -0.1746  Consumer Defensive           -9.323276      0  \n",
       "1                1.7313  Consumer Defensive          -25.512193      0  \n",
       "2                0.0234  Consumer Defensive           33.118297      1  \n",
       "3               -0.0060  Consumer Defensive            2.752291      1  \n",
       "4               -0.0220  Consumer Defensive           12.897715      1  \n",
       "\n",
       "[5 rows x 225 columns]"
      ]
     },
     "execution_count": 168,
     "metadata": {},
     "output_type": "execute_result"
    }
   ],
   "source": [
    "df1.head()"
   ]
  },
  {
   "cell_type": "code",
   "execution_count": 169,
   "id": "least-marriage",
   "metadata": {},
   "outputs": [],
   "source": [
    "def better_than_spy(row, spy_var):\n",
    "    price_var = row['PRICE_VAR']\n",
    "    if price_var > spy_var:\n",
    "        return 1\n",
    "    else:\n",
    "        return 0"
   ]
  },
  {
   "cell_type": "code",
   "execution_count": 170,
   "id": "fatty-encoding",
   "metadata": {},
   "outputs": [],
   "source": [
    "# Drop stock ticker and sector\n",
    "df1 = df1.drop(df1.columns[0], axis = 1)\n",
    "df2 = df2.drop(df2.columns[0], axis = 1)\n",
    "df3 = df3.drop(df3.columns[0], axis = 1)\n",
    "df4 = df4.drop(df4.columns[0], axis = 1)\n",
    "df5 = df5.drop(df5.columns[0], axis = 1)\n",
    "\n",
    "df1.drop(['Sector'], axis=1, inplace=True)\n",
    "df2.drop(['Sector'], axis=1, inplace=True)\n",
    "df3.drop(['Sector'], axis=1, inplace=True)\n",
    "df4.drop(['Sector'], axis=1, inplace=True)\n",
    "df5.drop(['Sector'], axis=1, inplace=True)\n",
    "\n",
    "df1['Year'] = 2014\n",
    "df2['Year'] = 2015\n",
    "df3['Year'] = 2016\n",
    "df4['Year'] = 2017\n",
    "df5['Year'] = 2018\n",
    "\n",
    "# Rename price var\n",
    "df1.rename(columns={\"2015 PRICE VAR [%]\": \"PRICE_VAR\"},inplace=True)\n",
    "df2.rename(columns={\"2016 PRICE VAR [%]\": \"PRICE_VAR\"},inplace=True)\n",
    "df3.rename(columns={\"2017 PRICE VAR [%]\": \"PRICE_VAR\"},inplace=True)\n",
    "df4.rename(columns={\"2018 PRICE VAR [%]\": \"PRICE_VAR\"},inplace=True)\n",
    "df5.rename(columns={\"2019 PRICE VAR [%]\": \"PRICE_VAR\"},inplace=True)"
   ]
  },
  {
   "cell_type": "code",
   "execution_count": 172,
   "id": "large-correction",
   "metadata": {},
   "outputs": [],
   "source": [
    "spy = pd.read_csv(\"./data/SPY.csv\", index_col='Date')\n",
    "\n",
    "spy2015 = spy.loc[['2015-01-01','2016-01-01']]['Open']\n",
    "spy2015change = ((spy2015[1] - spy2015[0]) / spy2015[0]) * 100\n",
    "df1['Beat Spy'] = df1.apply(lambda row: better_than_spy(row, spy2015change), axis=1)\n",
    "\n",
    "spy2016 = spy.loc[['2016-01-01','2017-01-01']]['Open']\n",
    "spy2016change = ((spy2016[1] - spy2016[0]) / spy2016[0]) * 100\n",
    "df2['Beat Spy'] = df2.apply(lambda row: better_than_spy(row, spy2016change), axis=1)\n",
    "\n",
    "spy2017 = spy.loc[['2017-01-01','2018-01-01']]['Open']\n",
    "spy2017change = ((spy2017[1] - spy2017[0]) / spy2017[0]) * 100\n",
    "df3['Beat Spy'] = df3.apply(lambda row: better_than_spy(row, spy2017change), axis=1)\n",
    "\n",
    "spy2018 = spy.loc[['2018-01-01','2019-01-01']]['Open']\n",
    "spy2018change = ((spy2018[1] - spy2018[0]) / spy2018[0]) * 100\n",
    "df4['Beat Spy'] = df4.apply(lambda row: better_than_spy(row, spy2018change), axis=1)\n",
    "\n",
    "spy2019 = spy.loc[['2019-01-01','2020-01-01']]['Open']\n",
    "spy2019change = ((spy2019[1] - spy2019[0]) / spy2019[0]) * 100\n",
    "df5['Beat Spy'] = df5.apply(lambda row: better_than_spy(row, spy2019change), axis=1)"
   ]
  },
  {
   "cell_type": "code",
   "execution_count": 173,
   "id": "permanent-fellow",
   "metadata": {},
   "outputs": [],
   "source": [
    "imputer = KNNImputer(n_neighbors=10, weights='distance', metric='nan_euclidean', copy=True)\n",
    "\n",
    "df1_clean = imputer.fit_transform(df1)\n",
    "df1_clean = pd.DataFrame(df1_clean)\n",
    "df1_clean.columns = list(df1)\n",
    "\n",
    "df2_clean = imputer.fit_transform(df2)\n",
    "df2_clean = pd.DataFrame(df2_clean)\n",
    "df2_clean.columns = list(df2)\n",
    "\n",
    "df3_clean = imputer.fit_transform(df3)\n",
    "df3_clean = pd.DataFrame(df3_clean)\n",
    "df3_clean.columns = list(df3)\n",
    "\n",
    "df4_clean = imputer.fit_transform(df4)\n",
    "df4_clean = pd.DataFrame(df4_clean)\n",
    "df4_clean.columns = list(df4)\n",
    "\n",
    "df5_clean = imputer.fit_transform(df5)\n",
    "df5_clean = pd.DataFrame(df5_clean)\n",
    "df5_clean.columns = list(df5)"
   ]
  },
  {
   "cell_type": "code",
   "execution_count": 174,
   "id": "silent-liabilities",
   "metadata": {},
   "outputs": [],
   "source": [
    "data = pd.concat([df1_clean, df2_clean, df3_clean, df4_clean, df5_clean])"
   ]
  },
  {
   "cell_type": "code",
   "execution_count": 175,
   "id": "intense-spice",
   "metadata": {},
   "outputs": [
    {
     "data": {
      "text/plain": [
       "Text(0.5, 1.0, '2019 Returns')"
      ]
     },
     "execution_count": 175,
     "metadata": {},
     "output_type": "execute_result"
    },
    {
     "data": {
      "image/png": "[encoded data removed]",
      "text/plain": [
       "<Figure size 1080x1080 with 6 Axes>"
      ]
     },
     "metadata": {},
     "output_type": "display_data"
    }
   ],
   "source": [
    "fig, axs = plt.subplots(3, 2, figsize=(15, 15))\n",
    "fig.subplots_adjust(hspace=1)\n",
    "sns.histplot(data=df1['PRICE_VAR'], binrange=(-300,300), stat='count', color='blue', ax=axs[0, 0]).set_title('2015 Returns')\n",
    "sns.histplot(data=df2['PRICE_VAR'], binrange=(-300,300), stat='count', color='green', ax=axs[0, 1]).set_title('2016 Returns')\n",
    "sns.histplot(data=df3['PRICE_VAR'], binrange=(-300,300), stat='count', color='orange', ax=axs[1, 0]).set_title('2017 Returns')\n",
    "sns.histplot(data=df4['PRICE_VAR'], binrange=(-300,300), stat='count', color='purple', ax=axs[1, 1]).set_title('2018 Returns')\n",
    "sns.histplot(data=df5['PRICE_VAR'], binrange=(-300,300), stat='count', color='red', ax=axs[2, 0]).set_title('2019 Returns')"
   ]
  },
  {
   "cell_type": "code",
   "execution_count": 202,
   "id": "composite-essex",
   "metadata": {},
   "outputs": [
    {
     "data": {
      "text/plain": [
       "<AxesSubplot:xlabel='PRICE_VAR', ylabel='Density'>"
      ]
     },
     "execution_count": 202,
     "metadata": {},
     "output_type": "execute_result"
    },
    {
     "data": {
      "image/png": "[encoded data removed]",
      "text/plain": [
       "<Figure size 432x288 with 1 Axes>"
      ]
     },
     "metadata": {},
     "output_type": "display_data"
    }
   ],
   "source": [
    "sns.histplot(\n",
    "    data=data, x='PRICE_VAR', hue='Year',\n",
    "    element=\"step\", fill=False,\n",
    "    cumulative=True, common_norm=False, stat='density', binrange=(-50,300)\n",
    ")"
   ]
  },
  {
   "cell_type": "code",
   "execution_count": 192,
   "id": "least-serbia",
   "metadata": {},
   "outputs": [
    {
     "name": "stdout",
     "output_type": "stream",
     "text": [
      "In 2014, 46.58613445378151% of companies had better performance than SPY the next year\n",
      "In 2015, 55.46116504854369% of companies had better performance than SPY the next year\n",
      "In 2016, 37.91953304148426% of companies had better performance than SPY the next year\n",
      "In 2017, 41.16935483870968% of companies had better performance than SPY the next year\n",
      "In 2018, 33.310564663023676% of companies had better performance than SPY the next year\n",
      "\n",
      "\n",
      "In 2014, 42.909663865546214% of companies had positive stock growth the next year\n",
      "In 2015, 70.16990291262137% of companies had positive stock growth the next year\n",
      "In 2016, 67.0835939128622% of companies had positive stock growth the next year\n",
      "In 2017, 27.62096774193548% of companies had positive stock growth the next year\n",
      "In 2018, 69.35336976320583% of companies had positive stock growth the next year\n"
     ]
    }
   ],
   "source": [
    "print(f\"In {df1['Year'][0]}, {(sum(df1['Beat Spy'] == 1) / len(df1['Beat Spy']))*100}% of companies had better performance than SPY the next year\")\n",
    "print(f\"In {df2['Year'][0]}, {(sum(df2['Beat Spy'] == 1) / len(df2['Beat Spy']))*100}% of companies had better performance than SPY the next year\")\n",
    "print(f\"In {df3['Year'][0]}, {(sum(df3['Beat Spy'] == 1) / len(df3['Beat Spy']))*100}% of companies had better performance than SPY the next year\")\n",
    "print(f\"In {df4['Year'][0]}, {(sum(df4['Beat Spy'] == 1) / len(df4['Beat Spy']))*100}% of companies had better performance than SPY the next year\")\n",
    "print(f\"In {df5['Year'][0]}, {(sum(df5['Beat Spy'] == 1) / len(df5['Beat Spy']))*100}% of companies had better performance than SPY the next year\")\n",
    "print(\"\\n\")\n",
    "print(f\"In {df1['Year'][0]}, {(sum(df1['Class'] == 1) / len(df1['Class']))*100}% of companies had positive stock growth the next year\")\n",
    "print(f\"In {df2['Year'][0]}, {(sum(df2['Class'] == 1) / len(df2['Class']))*100}% of companies had positive stock growth the next year\")\n",
    "print(f\"In {df3['Year'][0]}, {(sum(df3['Class'] == 1) / len(df3['Class']))*100}% of companies had positive stock growth the next year\")\n",
    "print(f\"In {df4['Year'][0]}, {(sum(df4['Class'] == 1) / len(df4['Class']))*100}% of companies had positive stock growth the next year\")\n",
    "print(f\"In {df5['Year'][0]}, {(sum(df5['Class'] == 1) / len(df5['Class']))*100}% of companies had positive stock growth the next year\")"
   ]
  },
  {
   "cell_type": "code",
   "execution_count": 203,
   "id": "fifth-carolina",
   "metadata": {},
   "outputs": [],
   "source": [
    "X = data.iloc[:,:-4]\n",
    "y = data.iloc[:,-1:] # for spy, do -3 for buy/sell\n",
    "y = np.array([int(i[0]) for i in y.values.tolist()])"
   ]
  },
  {
   "cell_type": "code",
   "execution_count": 204,
   "id": "every-crest",
   "metadata": {},
   "outputs": [],
   "source": [
    "X_train, X_test, y_train, y_test = train_test_split(X, y)"
   ]
  },
  {
   "cell_type": "code",
   "execution_count": 205,
   "id": "intimate-crossing",
   "metadata": {},
   "outputs": [],
   "source": [
    "transformer = RobustScaler(unit_variance=True).fit(X_train)\n",
    "X_train = transformer.transform(X_train)\n",
    "X_test = transformer.transform(X_test)"
   ]
  },
  {
   "cell_type": "code",
   "execution_count": 206,
   "id": "moral-cleaning",
   "metadata": {},
   "outputs": [],
   "source": [
    "svm = SVC(C=1, gamma='scale', class_weight='balanced')\n",
    "svm.fit(X_train, y_train)\n",
    "y_pred = svm.predict(X_test)"
   ]
  },
  {
   "cell_type": "code",
   "execution_count": 207,
   "id": "derived-tunisia",
   "metadata": {},
   "outputs": [
    {
     "name": "stdout",
     "output_type": "stream",
     "text": [
      "                 precision    recall  f1-score   support\n",
      "\n",
      "Doesnt Beat SPY       0.58      0.98      0.73      3225\n",
      "      Beats SPY       0.44      0.02      0.04      2295\n",
      "\n",
      "       accuracy                           0.58      5520\n",
      "      macro avg       0.51      0.50      0.39      5520\n",
      "   weighted avg       0.53      0.58      0.45      5520\n",
      "\n"
     ]
    }
   ],
   "source": [
    "target_names = ['Doesnt Beat SPY', 'Beats SPY']\n",
    "print(classification_report(y_test, y_pred, target_names=target_names))"
   ]
  },
  {
   "cell_type": "code",
   "execution_count": null,
   "id": "hungry-province",
   "metadata": {},
   "outputs": [],
   "source": []
  },
  {
   "cell_type": "code",
   "execution_count": null,
   "id": "front-arizona",
   "metadata": {},
   "outputs": [],
   "source": []
  },
  {
   "cell_type": "code",
   "execution_count": null,
   "id": "talented-strengthening",
   "metadata": {},
   "outputs": [],
   "source": []
  },
  {
   "cell_type": "code",
   "execution_count": null,
   "id": "german-glance",
   "metadata": {},
   "outputs": [],
   "source": []
  }
 ],
 "metadata": {
  "kernelspec": {
   "display_name": "venv",
   "language": "python",
   "name": "venv"
  },
  "language_info": {
   "codemirror_mode": {
    "name": "ipython",
    "version": 3
   },
   "file_extension": ".py",
   "mimetype": "text/x-python",
   "name": "python",
   "nbconvert_exporter": "python",
   "pygments_lexer": "ipython3",
   "version": "3.9.2"
  }
 },
 "nbformat": 4,
 "nbformat_minor": 5
}
